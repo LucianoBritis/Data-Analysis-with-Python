{
 "cells": [
  {
   "cell_type": "code",
   "execution_count": 197,
   "id": "6e895e89",
   "metadata": {},
   "outputs": [],
   "source": [
    "import pandas as pd\n",
    "import numpy as np"
   ]
  },
  {
   "cell_type": "markdown",
   "id": "3331b9cb-d818-405c-b56c-afa9c56c1b6e",
   "metadata": {},
   "source": [
    "![separator2](https://i.imgur.com/4gX5WFr.png)\n",
    "\n",
    "### Loading data:"
   ]
  },
  {
   "cell_type": "code",
   "execution_count": 198,
   "id": "aaae29b5",
   "metadata": {},
   "outputs": [],
   "source": [
    "frame = pd.read_csv('../datasets/adult.data.csv', sep=',')"
   ]
  },
  {
   "cell_type": "code",
   "execution_count": 199,
   "id": "ce2e5eb6",
   "metadata": {},
   "outputs": [
    {
     "data": {
      "text/plain": "   age         workclass  fnlwgt  education  education-num  \\\n0   39         State-gov   77516  Bachelors             13   \n1   50  Self-emp-not-inc   83311  Bachelors             13   \n2   38           Private  215646    HS-grad              9   \n3   53           Private  234721       11th              7   \n4   28           Private  338409  Bachelors             13   \n\n       marital-status         occupation   relationship   race     sex  \\\n0       Never-married       Adm-clerical  Not-in-family  White    Male   \n1  Married-civ-spouse    Exec-managerial        Husband  White    Male   \n2            Divorced  Handlers-cleaners  Not-in-family  White    Male   \n3  Married-civ-spouse  Handlers-cleaners        Husband  Black    Male   \n4  Married-civ-spouse     Prof-specialty           Wife  Black  Female   \n\n   capital-gain  capital-loss  hours-per-week native-country salary  \n0          2174             0              40  United-States  <=50K  \n1             0             0              13  United-States  <=50K  \n2             0             0              40  United-States  <=50K  \n3             0             0              40  United-States  <=50K  \n4             0             0              40           Cuba  <=50K  ",
      "text/html": "<div>\n<style scoped>\n    .dataframe tbody tr th:only-of-type {\n        vertical-align: middle;\n    }\n\n    .dataframe tbody tr th {\n        vertical-align: top;\n    }\n\n    .dataframe thead th {\n        text-align: right;\n    }\n</style>\n<table border=\"1\" class=\"dataframe\">\n  <thead>\n    <tr style=\"text-align: right;\">\n      <th></th>\n      <th>age</th>\n      <th>workclass</th>\n      <th>fnlwgt</th>\n      <th>education</th>\n      <th>education-num</th>\n      <th>marital-status</th>\n      <th>occupation</th>\n      <th>relationship</th>\n      <th>race</th>\n      <th>sex</th>\n      <th>capital-gain</th>\n      <th>capital-loss</th>\n      <th>hours-per-week</th>\n      <th>native-country</th>\n      <th>salary</th>\n    </tr>\n  </thead>\n  <tbody>\n    <tr>\n      <th>0</th>\n      <td>39</td>\n      <td>State-gov</td>\n      <td>77516</td>\n      <td>Bachelors</td>\n      <td>13</td>\n      <td>Never-married</td>\n      <td>Adm-clerical</td>\n      <td>Not-in-family</td>\n      <td>White</td>\n      <td>Male</td>\n      <td>2174</td>\n      <td>0</td>\n      <td>40</td>\n      <td>United-States</td>\n      <td>&lt;=50K</td>\n    </tr>\n    <tr>\n      <th>1</th>\n      <td>50</td>\n      <td>Self-emp-not-inc</td>\n      <td>83311</td>\n      <td>Bachelors</td>\n      <td>13</td>\n      <td>Married-civ-spouse</td>\n      <td>Exec-managerial</td>\n      <td>Husband</td>\n      <td>White</td>\n      <td>Male</td>\n      <td>0</td>\n      <td>0</td>\n      <td>13</td>\n      <td>United-States</td>\n      <td>&lt;=50K</td>\n    </tr>\n    <tr>\n      <th>2</th>\n      <td>38</td>\n      <td>Private</td>\n      <td>215646</td>\n      <td>HS-grad</td>\n      <td>9</td>\n      <td>Divorced</td>\n      <td>Handlers-cleaners</td>\n      <td>Not-in-family</td>\n      <td>White</td>\n      <td>Male</td>\n      <td>0</td>\n      <td>0</td>\n      <td>40</td>\n      <td>United-States</td>\n      <td>&lt;=50K</td>\n    </tr>\n    <tr>\n      <th>3</th>\n      <td>53</td>\n      <td>Private</td>\n      <td>234721</td>\n      <td>11th</td>\n      <td>7</td>\n      <td>Married-civ-spouse</td>\n      <td>Handlers-cleaners</td>\n      <td>Husband</td>\n      <td>Black</td>\n      <td>Male</td>\n      <td>0</td>\n      <td>0</td>\n      <td>40</td>\n      <td>United-States</td>\n      <td>&lt;=50K</td>\n    </tr>\n    <tr>\n      <th>4</th>\n      <td>28</td>\n      <td>Private</td>\n      <td>338409</td>\n      <td>Bachelors</td>\n      <td>13</td>\n      <td>Married-civ-spouse</td>\n      <td>Prof-specialty</td>\n      <td>Wife</td>\n      <td>Black</td>\n      <td>Female</td>\n      <td>0</td>\n      <td>0</td>\n      <td>40</td>\n      <td>Cuba</td>\n      <td>&lt;=50K</td>\n    </tr>\n  </tbody>\n</table>\n</div>"
     },
     "execution_count": 199,
     "metadata": {},
     "output_type": "execute_result"
    }
   ],
   "source": [
    "frame.head()"
   ]
  },
  {
   "cell_type": "code",
   "execution_count": 200,
   "id": "a5398463",
   "metadata": {},
   "outputs": [
    {
     "name": "stdout",
     "output_type": "stream",
     "text": [
      "<class 'pandas.core.frame.DataFrame'>\n",
      "RangeIndex: 32561 entries, 0 to 32560\n",
      "Data columns (total 15 columns):\n",
      " #   Column          Non-Null Count  Dtype \n",
      "---  ------          --------------  ----- \n",
      " 0   age             32561 non-null  int64 \n",
      " 1   workclass       32561 non-null  object\n",
      " 2   fnlwgt          32561 non-null  int64 \n",
      " 3   education       32561 non-null  object\n",
      " 4   education-num   32561 non-null  int64 \n",
      " 5   marital-status  32561 non-null  object\n",
      " 6   occupation      32561 non-null  object\n",
      " 7   relationship    32561 non-null  object\n",
      " 8   race            32561 non-null  object\n",
      " 9   sex             32561 non-null  object\n",
      " 10  capital-gain    32561 non-null  int64 \n",
      " 11  capital-loss    32561 non-null  int64 \n",
      " 12  hours-per-week  32561 non-null  int64 \n",
      " 13  native-country  32561 non-null  object\n",
      " 14  salary          32561 non-null  object\n",
      "dtypes: int64(6), object(9)\n",
      "memory usage: 3.7+ MB\n"
     ]
    }
   ],
   "source": [
    "frame.info()"
   ]
  },
  {
   "cell_type": "code",
   "execution_count": 201,
   "id": "7f6a15c6-30d6-49bb-86f9-4bf8654cebbc",
   "metadata": {},
   "outputs": [
    {
     "data": {
      "text/plain": "Male      21790\nFemale    10771\nName: sex, dtype: int64"
     },
     "execution_count": 201,
     "metadata": {},
     "output_type": "execute_result"
    }
   ],
   "source": [
    "frame['sex'].value_counts()"
   ]
  },
  {
   "cell_type": "markdown",
   "id": "fd9ebbec",
   "metadata": {},
   "source": [
    "![separator1](https://i.imgur.com/ZUWYTii.png)\n",
    "\n",
    "### How many people of each race are represented in this dataset? \n",
    "\n"
   ]
  },
  {
   "cell_type": "code",
   "execution_count": 202,
   "id": "9c4cd140",
   "metadata": {},
   "outputs": [
    {
     "data": {
      "text/plain": "race\nWhite                 27816\nBlack                  3124\nAsian-Pac-Islander     1039\nAmer-Indian-Eskimo      311\nOther                   271\nName: sex, dtype: int64"
     },
     "execution_count": 202,
     "metadata": {},
     "output_type": "execute_result"
    }
   ],
   "source": [
    "frame.groupby('race')['sex'].count().sort_values(ascending=False)"
   ]
  },
  {
   "cell_type": "markdown",
   "id": "fca861c4",
   "metadata": {},
   "source": [
    "![separator1](https://i.imgur.com/ZUWYTii.png)\n",
    "\n",
    "### What is the average age of men?"
   ]
  },
  {
   "cell_type": "code",
   "execution_count": 203,
   "id": "253f7b49-2909-48f5-afd1-236cf6f140ea",
   "metadata": {},
   "outputs": [
    {
     "data": {
      "text/plain": "sex\nFemale    36.858230\nMale      39.433547\nName: age, dtype: float64"
     },
     "execution_count": 203,
     "metadata": {},
     "output_type": "execute_result"
    }
   ],
   "source": [
    "frame.groupby('sex')['age'].mean()"
   ]
  },
  {
   "cell_type": "markdown",
   "id": "ba09ea2b-834c-4cc6-81d2-b97735a58605",
   "metadata": {},
   "source": [
    "![separator1](https://i.imgur.com/ZUWYTii.png)\n",
    "\n",
    "### What is the percentage of people who have a Bachelor's degree?"
   ]
  },
  {
   "cell_type": "code",
   "execution_count": 204,
   "id": "1e56f37a",
   "metadata": {},
   "outputs": [
    {
     "name": "stdout",
     "output_type": "stream",
     "text": [
      "The percentage of people who have a Bachelor's degree is 16.4 %.\n"
     ]
    }
   ],
   "source": [
    "percentage_bachelor = round((frame['education'] == 'Bachelors').sum() / len(frame['education'])*100,1)\n",
    "print('The percentage of people who have a Bachelor'\"'s degree is {}\".format(percentage_bachelor) + str(' %.'))"
   ]
  },
  {
   "cell_type": "markdown",
   "id": "a6f5dabc-e39a-4832-82eb-2dbfc7615623",
   "metadata": {},
   "source": [
    "![separator1](https://i.imgur.com/ZUWYTii.png)\n",
    "\n",
    "### What percentage of people `with` advanced education (Bachelors, Masters, or Doctorate) make more than 50K?"
   ]
  },
  {
   "cell_type": "code",
   "execution_count": 205,
   "id": "98576bc4",
   "metadata": {},
   "outputs": [
    {
     "name": "stdout",
     "output_type": "stream",
     "text": [
      "The percentage of people with advanced education and make more than 50K is 46.5 %.\n"
     ]
    }
   ],
   "source": [
    "filter1 = frame['education'].isin(['Bachelors','Masters','Doctorate'])\n",
    "filter2 = frame['salary'].isin(['>50K'])\n",
    "filter3 = frame[filter1 & filter2]\n",
    "advanced_education = round(filter3['education'].count()/filter1.sum()*100,1)\n",
    "print('The percentage of people with advanced education and make more than 50K is {}'.format(advanced_education) + str(' %.'))"
   ]
  },
  {
   "cell_type": "markdown",
   "id": "15964c4e-31d4-4bbe-9b35-4db8f4dd37bd",
   "metadata": {},
   "source": [
    "![separator1](https://i.imgur.com/ZUWYTii.png)\n",
    "\n",
    "### What percentage of people `without` advanced education make more than 50K?"
   ]
  },
  {
   "cell_type": "code",
   "execution_count": 206,
   "id": "cf0217dd",
   "metadata": {},
   "outputs": [
    {
     "name": "stdout",
     "output_type": "stream",
     "text": [
      "The percentage of people with advanced education and make more than 50K is 17.4 %.\n"
     ]
    }
   ],
   "source": [
    "filter1 = ~frame['education'].isin(['Bachelors','Masters','Doctorate'])\n",
    "filter2 = frame['salary'].isin(['>50K'])\n",
    "filter3 = frame[filter1 & filter2]\n",
    "advanced_education = round(filter3['education'].count()/filter1.sum()*100,1)\n",
    "print('The percentage of people with advanced education and make more than 50K is {}'.format(advanced_education) + str(' %.'))"
   ]
  },
  {
   "cell_type": "markdown",
   "id": "f12a7c03-8a07-41ef-b79a-ac9585fbcafe",
   "metadata": {},
   "source": [
    "![separator1](https://i.imgur.com/ZUWYTii.png)\n",
    "\n",
    "###  What is the minimum number of hours a person works per week?"
   ]
  },
  {
   "cell_type": "code",
   "execution_count": 207,
   "id": "e1749ab0-b0e3-4719-ae5f-33e28d664f5a",
   "metadata": {},
   "outputs": [
    {
     "name": "stdout",
     "output_type": "stream",
     "text": [
      "The minimum time a person works per week is 1 hour.\n"
     ]
    }
   ],
   "source": [
    "min_hours = frame['hours-per-week'].min()\n",
    "print('The minimum time a person works per week is {}'.format(min_hours) + str(' hour.'))"
   ]
  },
  {
   "cell_type": "markdown",
   "id": "491c5f97-e74f-448c-acdd-a2d0a15e57c0",
   "metadata": {},
   "source": [
    "![separator1](https://i.imgur.com/ZUWYTii.png)\n",
    "\n",
    "### What percentage of the people who work the minimum number of hours per week have a salary of more than 50K?"
   ]
  },
  {
   "cell_type": "code",
   "execution_count": 208,
   "id": "116471c2",
   "metadata": {},
   "outputs": [
    {
     "name": "stdout",
     "output_type": "stream",
     "text": [
      "The percentage of the people who work the minimum number of hours per week have a salary of more than 10.0 %.\n"
     ]
    }
   ],
   "source": [
    "filter4 = frame['hours-per-week'].isin([min_hours])\n",
    "filter5 = frame[filter4 & filter2]\n",
    "min_number = round(filter5['hours-per-week'].count()/filter4.sum()*100,1)\n",
    "print('The percentage of the people who work the minimum number of hours per week have a salary of more than {}'.format(min_number) + str(' %.'))"
   ]
  },
  {
   "cell_type": "markdown",
   "id": "ae504974",
   "metadata": {},
   "source": [
    "![separator1](https://i.imgur.com/ZUWYTii.png)\n",
    "\n",
    "### What country has the highest percentage of people that earn >50K and what is that percentage?"
   ]
  },
  {
   "cell_type": "code",
   "execution_count": 209,
   "outputs": [
    {
     "name": "stdout",
     "output_type": "stream",
     "text": [
      "The country is the: Iran with percentage of 41.86 %.\n"
     ]
    }
   ],
   "source": [
    "c = frame[['native-country', 'salary']]\n",
    "d = c['native-country'].value_counts()\n",
    "e = c[c['salary'] == '>50K']['native-country'].value_counts()\n",
    "f = (e / d * 100).idxmax()\n",
    "g = round((e / d * 100).max(),2)\n",
    "print('The country is the: {} with percentage of {}'.format(f,g) + str(' %.'))"
   ],
   "metadata": {
    "collapsed": false
   }
  },
  {
   "cell_type": "markdown",
   "source": [
    "![separator1](https://i.imgur.com/ZUWYTii.png)\n",
    "\n",
    "### Identify the most popular occupation for those who earn >50K in India."
   ],
   "metadata": {
    "collapsed": false
   }
  },
  {
   "cell_type": "code",
   "execution_count": 210,
   "id": "584d042a",
   "metadata": {},
   "outputs": [],
   "source": [
    "df_india = frame.loc[(frame['native-country'] == 'India') & (frame['salary'] == '>50K')]"
   ]
  },
  {
   "cell_type": "code",
   "execution_count": 211,
   "outputs": [
    {
     "data": {
      "text/plain": "salary  occupation      \n>50K    Prof-specialty      25\n        Exec-managerial      8\n        Other-service        2\n        Tech-support         2\n        Adm-clerical         1\n        Sales                1\n        Transport-moving     1\nName: occupation, dtype: int64"
     },
     "execution_count": 211,
     "metadata": {},
     "output_type": "execute_result"
    }
   ],
   "source": [
    "df_india.groupby('salary')['occupation'].value_counts()"
   ],
   "metadata": {
    "collapsed": false
   }
  },
  {
   "cell_type": "code",
   "execution_count": 212,
   "outputs": [
    {
     "data": {
      "text/plain": "('>50K', 'Prof-specialty')"
     },
     "execution_count": 212,
     "metadata": {},
     "output_type": "execute_result"
    }
   ],
   "source": [
    "df_india.groupby('salary')['occupation'].value_counts().idxmax()"
   ],
   "metadata": {
    "collapsed": false
   }
  },
  {
   "cell_type": "code",
   "execution_count": 213,
   "outputs": [
    {
     "data": {
      "text/plain": "('Prof-specialty', '>50K')"
     },
     "execution_count": 213,
     "metadata": {},
     "output_type": "execute_result"
    }
   ],
   "source": [
    "# optional\n",
    "df_india.filter(items=['occupation','salary']).value_counts().idxmax()"
   ],
   "metadata": {
    "collapsed": false
   }
  },
  {
   "cell_type": "markdown",
   "source": [
    "![separator2](https://i.imgur.com/4gX5WFr.png)\n",
    "\n"
   ],
   "metadata": {
    "collapsed": false
   }
  }
 ],
 "metadata": {
  "kernelspec": {
   "display_name": "Python 3 (ipykernel)",
   "language": "python",
   "name": "python3"
  },
  "language_info": {
   "codemirror_mode": {
    "name": "ipython",
    "version": 3
   },
   "file_extension": ".py",
   "mimetype": "text/x-python",
   "name": "python",
   "nbconvert_exporter": "python",
   "pygments_lexer": "ipython3",
   "version": "3.9.12"
  }
 },
 "nbformat": 4,
 "nbformat_minor": 5
}
